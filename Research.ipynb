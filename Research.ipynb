{
  "cells": [
    {
      "metadata": {
        "id": "dhlF_CZc2IUz"
      },
      "cell_type": "markdown",
      "source": [
        "![image](https://raw.githubusercontent.com/IBM/watson-machine-learning-samples/master/cloud/notebooks/headers/watsonx-Prompt_Lab-Notebook.png)\n",
        "# Prompt Notebook - Prompt Lab Notebook v1.1.0\n",
        "This notebook contains steps and code to demonstrate inferencing of prompts\n",
        "generated in Prompt Lab in watsonx.ai. It introduces Python API commands\n",
        "for authentication using API key and prompt inferencing using WML API.\n",
        "\n",
        "**Note:** Notebook code generated using Prompt Lab will execute successfully.\n",
        "If code is modified or reordered, there is no guarantee it will successfully execute.\n",
        "For details, see: <a href=\"/docs/content/wsj/analyze-data/fm-prompt-save.html?context=wx\" target=\"_blank\">Saving your work in Prompt Lab as a notebook.</a>\n",
        "\n",
        "Some familiarity with Python is helpful. This notebook uses Python 3.10.\n",
        "\n",
        "## Notebook goals\n",
        "The learning goals of this notebook are:\n",
        "\n",
        "* Defining a Python function for obtaining credentials from the IBM Cloud personal API key\n",
        "* Defining parameters of the Model object\n",
        "* Using the Model object to generate response using the defined model id, parameters and the prompt input\n",
        "\n",
        "# Setup"
      ]
    },
    {
      "metadata": {
        "id": "55AeZ_pX2IU2"
      },
      "cell_type": "markdown",
      "source": [
        "## watsonx API connection\n",
        "This cell defines the credentials required to work with watsonx API for Foundation\n",
        "Model inferencing.\n",
        "\n",
        "**Action:** Provide the IBM Cloud personal API key. For details, see\n",
        "<a href=\"https://cloud.ibm.com/docs/account?topic=account-userapikey&interface=ui\" target=\"_blank\">documentation</a>.\n"
      ]
    },
    {
      "metadata": {
        "colab": {
          "base_uri": "https://localhost:8080/"
        },
        "id": "xOE6mPLO2IU3",
        "outputId": "7273d9e3-c1d1-438a-fe7a-90c5f4db6776"
      },
      "cell_type": "code",
      "source": [
        "import os\n",
        "from ibm_watsonx_ai import APIClient, Credentials\n",
        "import getpass\n",
        "\n",
        "credentials = Credentials(\n",
        "    url=\"https://eu-gb.ml.cloud.ibm.com\",\n",
        "    api_key=getpass.getpass(\"Please enter your api key (hit enter): \")\n",
        ")\n",
        "\n"
      ],
      "execution_count": 4,
      "outputs": [
        {
          "name": "stdout",
          "output_type": "stream",
          "text": [
            "Please enter your api key (hit enter): ··········\n"
          ]
        }
      ]
    },
    {
      "cell_type": "code",
      "source": [
        "pip install ibm_watsonx_ai"
      ],
      "metadata": {
        "colab": {
          "base_uri": "https://localhost:8080/"
        },
        "id": "VAkA65cx2Xdz",
        "outputId": "b87a2d92-5bf9-4982-ccc5-01d5fce69b45"
      },
      "execution_count": 5,
      "outputs": [
        {
          "output_type": "stream",
          "name": "stdout",
          "text": [
            "Requirement already satisfied: ibm_watsonx_ai in /usr/local/lib/python3.11/dist-packages (1.3.32)\n",
            "Requirement already satisfied: requests in /usr/local/lib/python3.11/dist-packages (from ibm_watsonx_ai) (2.32.4)\n",
            "Requirement already satisfied: httpx<0.29,>=0.27 in /usr/local/lib/python3.11/dist-packages (from ibm_watsonx_ai) (0.28.1)\n",
            "Requirement already satisfied: urllib3 in /usr/local/lib/python3.11/dist-packages (from ibm_watsonx_ai) (2.5.0)\n",
            "Requirement already satisfied: pandas<2.3.0,>=0.24.2 in /usr/local/lib/python3.11/dist-packages (from ibm_watsonx_ai) (2.2.2)\n",
            "Requirement already satisfied: certifi in /usr/local/lib/python3.11/dist-packages (from ibm_watsonx_ai) (2025.7.14)\n",
            "Requirement already satisfied: lomond in /usr/local/lib/python3.11/dist-packages (from ibm_watsonx_ai) (0.3.3)\n",
            "Requirement already satisfied: tabulate in /usr/local/lib/python3.11/dist-packages (from ibm_watsonx_ai) (0.9.0)\n",
            "Requirement already satisfied: packaging in /usr/local/lib/python3.11/dist-packages (from ibm_watsonx_ai) (25.0)\n",
            "Requirement already satisfied: ibm-cos-sdk<2.15.0,>=2.12.0 in /usr/local/lib/python3.11/dist-packages (from ibm_watsonx_ai) (2.14.3)\n",
            "Requirement already satisfied: cachetools in /usr/local/lib/python3.11/dist-packages (from ibm_watsonx_ai) (5.5.2)\n",
            "Requirement already satisfied: anyio in /usr/local/lib/python3.11/dist-packages (from httpx<0.29,>=0.27->ibm_watsonx_ai) (4.9.0)\n",
            "Requirement already satisfied: httpcore==1.* in /usr/local/lib/python3.11/dist-packages (from httpx<0.29,>=0.27->ibm_watsonx_ai) (1.0.9)\n",
            "Requirement already satisfied: idna in /usr/local/lib/python3.11/dist-packages (from httpx<0.29,>=0.27->ibm_watsonx_ai) (3.10)\n",
            "Requirement already satisfied: h11>=0.16 in /usr/local/lib/python3.11/dist-packages (from httpcore==1.*->httpx<0.29,>=0.27->ibm_watsonx_ai) (0.16.0)\n",
            "Requirement already satisfied: ibm-cos-sdk-core==2.14.3 in /usr/local/lib/python3.11/dist-packages (from ibm-cos-sdk<2.15.0,>=2.12.0->ibm_watsonx_ai) (2.14.3)\n",
            "Requirement already satisfied: ibm-cos-sdk-s3transfer==2.14.3 in /usr/local/lib/python3.11/dist-packages (from ibm-cos-sdk<2.15.0,>=2.12.0->ibm_watsonx_ai) (2.14.3)\n",
            "Requirement already satisfied: jmespath<=1.0.1,>=0.10.0 in /usr/local/lib/python3.11/dist-packages (from ibm-cos-sdk<2.15.0,>=2.12.0->ibm_watsonx_ai) (1.0.1)\n",
            "Requirement already satisfied: python-dateutil<3.0.0,>=2.9.0 in /usr/local/lib/python3.11/dist-packages (from ibm-cos-sdk-core==2.14.3->ibm-cos-sdk<2.15.0,>=2.12.0->ibm_watsonx_ai) (2.9.0.post0)\n",
            "Requirement already satisfied: numpy>=1.23.2 in /usr/local/lib/python3.11/dist-packages (from pandas<2.3.0,>=0.24.2->ibm_watsonx_ai) (2.0.2)\n",
            "Requirement already satisfied: pytz>=2020.1 in /usr/local/lib/python3.11/dist-packages (from pandas<2.3.0,>=0.24.2->ibm_watsonx_ai) (2025.2)\n",
            "Requirement already satisfied: tzdata>=2022.7 in /usr/local/lib/python3.11/dist-packages (from pandas<2.3.0,>=0.24.2->ibm_watsonx_ai) (2025.2)\n",
            "Requirement already satisfied: charset_normalizer<4,>=2 in /usr/local/lib/python3.11/dist-packages (from requests->ibm_watsonx_ai) (3.4.2)\n",
            "Requirement already satisfied: six>=1.10.0 in /usr/local/lib/python3.11/dist-packages (from lomond->ibm_watsonx_ai) (1.17.0)\n",
            "Requirement already satisfied: sniffio>=1.1 in /usr/local/lib/python3.11/dist-packages (from anyio->httpx<0.29,>=0.27->ibm_watsonx_ai) (1.3.1)\n",
            "Requirement already satisfied: typing_extensions>=4.5 in /usr/local/lib/python3.11/dist-packages (from anyio->httpx<0.29,>=0.27->ibm_watsonx_ai) (4.14.1)\n"
          ]
        }
      ]
    },
    {
      "metadata": {
        "id": "6GA1L5RF2IU4"
      },
      "cell_type": "markdown",
      "source": [
        "# Inferencing\n",
        "This cell demonstrated how we can use the model object as well as the created access token\n",
        "to pair it with parameters and input string to obtain\n",
        "the response from the the selected foundation model.\n",
        "\n",
        "## Defining the model id\n",
        "We need to specify model id that will be used for inferencing:\n"
      ]
    },
    {
      "metadata": {
        "id": "XL6HTlV32IU4"
      },
      "cell_type": "code",
      "source": [
        "model_id = \"ibm/granite-3-8b-instruct\"\n"
      ],
      "execution_count": 6,
      "outputs": []
    },
    {
      "metadata": {
        "id": "v7XkyJ7h2IU5"
      },
      "cell_type": "markdown",
      "source": [
        "## Defining the model parameters\n",
        "We need to provide a set of model parameters that will influence the\n",
        "result:"
      ]
    },
    {
      "metadata": {
        "id": "7FUWwakP2IU5"
      },
      "cell_type": "code",
      "source": [
        "parameters = {\n",
        "    \"decoding_method\": \"greedy\",\n",
        "    \"max_new_tokens\": 200,\n",
        "    \"min_new_tokens\": 0,\n",
        "    \"repetition_penalty\": 1\n",
        "}"
      ],
      "execution_count": 7,
      "outputs": []
    },
    {
      "metadata": {
        "id": "0Ak3-syk2IU6"
      },
      "cell_type": "markdown",
      "source": [
        "## Defining the project id or space id\n",
        "The API requires project id or space id that provides the context for the call. We will obtain\n",
        "the id from the project or space in which this notebook runs:"
      ]
    },
    {
      "metadata": {
        "id": "cVQtbrOX2IU6"
      },
      "cell_type": "code",
      "source": [
        "project_id = \"xxxx\"\n",
        "space_id = \"\"\n"
      ],
      "execution_count": 13,
      "outputs": []
    },
    {
      "metadata": {
        "id": "H9mI5aCH2IU6"
      },
      "cell_type": "markdown",
      "source": [
        "## Defining the Model object\n",
        "We need to define the Model object using the properties we defined so far:\n"
      ]
    },
    {
      "metadata": {
        "id": "2RXX6T1A2IU7"
      },
      "cell_type": "code",
      "source": [
        "from ibm_watsonx_ai.foundation_models import ModelInference\n",
        "\n",
        "model = ModelInference(\n",
        "\tmodel_id = model_id,\n",
        "\tparams = parameters,\n",
        "\tcredentials = credentials,\n",
        "\tproject_id = project_id,\n",
        "\tspace_id = space_id\n",
        "\t)\n"
      ],
      "execution_count": 14,
      "outputs": []
    },
    {
      "metadata": {
        "id": "tITimnbv2IU7"
      },
      "cell_type": "markdown",
      "source": [
        "## Defining the inferencing input\n",
        "Foundation model inferencing API accepts a natural language input that it will use\n",
        "to provide the natural language response. The API is sensitive to formatting. Input\n",
        "structure, presence of training steps (one-shot, two-shot learning etc.), as well\n",
        "as phrasing all influence the final response and belongs to the emerging discipline of\n",
        "Prompt Engineering.\n",
        "\n",
        "Let us provide the input we got from the Prompt Lab:\n"
      ]
    },
    {
      "metadata": {
        "id": "tr0diqVK2IU7"
      },
      "cell_type": "code",
      "source": [
        "prompt_input = \"\"\"You are a scientific research assistant.\n",
        "\n",
        "Given the following research content, your tasks are:\n",
        "1. Summarize it in simple terms.\n",
        "2. Identify the research domain (e.g., NLP, ML, physics, etc.).\n",
        "3. Generate 3 follow-up research questions or hypotheses.\n",
        "4. Suggest 2 citation-worthy statements.\n",
        "\n",
        "### RESEARCH INPUT:\n",
        "{{ uploaded_research_paper_content }}\n",
        "\n",
        "### OUTPUT:\n",
        "**Summary:**\n",
        "...\n",
        "\n",
        "**Research Domain:**\n",
        "...\n",
        "\n",
        "**Follow-up Questions:**\n",
        "1. ...\n",
        "2. ...\n",
        "3. ...\n",
        "\n",
        "**Citation Suggestions:**\n",
        "- \"...\"\n",
        "- \"...\"\n",
        "\n",
        "\n",
        "Input: This paper introduces a novel federated learning algorithm for healthcare data sharing that preserves patient privacy using homomorphic encryption...\n",
        "\n",
        "Output: Summary:\n",
        "This study presents a privacy-preserving method to train machine learning models on distributed healthcare data using secure techniques.\n",
        "\n",
        "Research Domain:\n",
        "Machine Learning, Healthcare AI\n",
        "\n",
        "Follow-up Research Questions:\n",
        "How scalable is the approach across multiple hospital networks?\n",
        "\n",
        "Can the model generalize to rare diseases?\n",
        "\n",
        "What impact does encryption have on training time?\n",
        "\n",
        "Citation-Worthy Statements:\n",
        "\"We propose a federated learning algorithm using homomorphic encryption to enable privacy-preserving training across hospitals.\"\n",
        "\n",
        "\"The approach maintains 95% model accuracy while fully securing patient data.\"\n",
        "\n",
        "Keywords:\n",
        "federated learning\n",
        "\n",
        "privacy-preserving AI\n",
        "\n",
        "healthcare\n",
        "\n",
        "homomorphic encryption\n",
        "\n",
        "model generalization\n",
        "\n",
        "Datasets/Tools Mentioned:\n",
        "MIMIC-III dataset\n",
        "\n",
        "PySyft library\n",
        "\n",
        "Limitations or Challenges:\n",
        "High computational cost due to encryption\n",
        "\n",
        "Requires uniform data format across source\n",
        "\n",
        "Input: This paper introduces a novel federated learning algorithm for healthcare data sharing that preserves patient privacy using homomorphic encryption...\n",
        "\n",
        "Output:\"\"\"\n"
      ],
      "execution_count": 15,
      "outputs": []
    },
    {
      "metadata": {
        "id": "66diB79a2IU8"
      },
      "cell_type": "markdown",
      "source": [
        "## Execution\n",
        "Let us now use the defined Model object and pair it with input and\n",
        "generate the response:\n"
      ]
    },
    {
      "metadata": {
        "colab": {
          "base_uri": "https://localhost:8080/"
        },
        "id": "wxQrI-G92IU8",
        "outputId": "30840f0d-a44e-41cb-ce7e-20f95ffc6db9"
      },
      "cell_type": "code",
      "source": [
        "print(\"Submitting generation request...\")\n",
        "generated_response = model.generate_text(prompt=prompt_input, guardrails=True)\n",
        "print(generated_response)\n"
      ],
      "execution_count": 16,
      "outputs": [
        {
          "output_type": "stream",
          "name": "stdout",
          "text": [
            "Submitting generation request...\n",
            " Summary:\n",
            "This research introduces a new federated learning method for healthcare data sharing, ensuring patient privacy through homomorphic encryption.\n",
            "\n",
            "Research Domain:\n",
            "Machine Learning, Healthcare AI, Privacy-Preserving Techniques\n",
            "\n",
            "Follow-up Research Questions:\n",
            "1. How does the proposed method compare to existing federated learning approaches in terms of computational efficiency and model performance?\n",
            "2. Can the algorithm be adapted to handle imbalanced datasets, which are common in healthcare?\n",
            "3. What are the potential regulatory and ethical implications of implementing this privacy-preserving federated learning approach in real-world healthcare settings?\n",
            "\n",
            "Citation-Worthy Statements:\n",
            "\"Our federated learning algorithm, leveraging homomorphic encryption, offers a robust solution for privacy-preserving healthcare data analysis.\"\n",
            "\n",
            "\"The proposed method maintains high model accuracy while ensuring patient data confidentiality.\"\n",
            "\n",
            "Keywords:\n",
            "federated learning\n",
            "\n",
            "privacy-\n"
          ]
        },
        {
          "output_type": "stream",
          "name": "stderr",
          "text": [
            "/usr/local/lib/python3.11/dist-packages/ibm_watsonx_ai/foundation_models/inference/base_model_inference.py:1134: HAPDetectionWarning: Potentially harmful text detected: [{'score': 0.6572714447975159, 'input': False, 'position': {'start': 10, 'end': 152}, 'entity': 'has_HAP', 'word': 'This research introduces a new federated learning method for healthcare data sharing, ensuring patient privacy through homomorphic encryption.'}]\n",
            "  warn(harmful_text_warning, category=HAPDetectionWarning)\n"
          ]
        }
      ]
    },
    {
      "metadata": {
        "id": "Ezc2pASS2IU8"
      },
      "cell_type": "markdown",
      "source": [
        "# Next steps\n",
        "You successfully completed this notebook! You learned how to use\n",
        "watsonx.ai inferencing SDK to generate response from the foundation model\n",
        "based on the provided input, model id and model parameters. Check out the\n",
        "official watsonx.ai site for more samples, tutorials, documentation, how-tos, and blog posts.\n",
        "\n",
        "<a id=\"copyrights\"></a>\n",
        "### Copyrights\n",
        "\n",
        "Licensed Materials - Copyright © 2023 IBM. This notebook and its source code are released under the terms of the ILAN License.\n",
        "Use, duplication disclosure restricted by GSA ADP Schedule Contract with IBM Corp.\n",
        "\n",
        "**Note:** The auto-generated notebooks are subject to the International License Agreement for Non-Warranted Programs (or equivalent) and License Information document for watsonx.ai Auto-generated Notebook (License Terms), such agreements located in the link below. Specifically, the Source Components and Sample Materials clause included in the License Information document for watsonx.ai Studio Auto-generated Notebook applies to the auto-generated notebooks.  \n",
        "\n",
        "By downloading, copying, accessing, or otherwise using the materials, you agree to the <a href=\"https://www14.software.ibm.com/cgi-bin/weblap/lap.pl?li_formnum=L-AMCU-BYC7LF\" target=\"_blank\">License Terms</a>  "
      ]
    }
  ],
  "metadata": {
    "kernelspec": {
      "name": "python3",
      "display_name": "Python 3.10",
      "language": "python"
    },
    "colab": {
      "provenance": []
    }
  },
  "nbformat": 4,
  "nbformat_minor": 0
}